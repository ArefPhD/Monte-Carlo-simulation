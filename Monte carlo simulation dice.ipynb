{
  "nbformat": 4,
  "nbformat_minor": 0,
  "metadata": {
    "colab": {
      "name": "Untitled126.ipynb",
      "private_outputs": true,
      "provenance": []
    },
    "kernelspec": {
      "name": "python3",
      "display_name": "Python 3"
    },
    "language_info": {
      "name": "python"
    }
  },
  "cells": [
    {
      "cell_type": "code",
      "execution_count": null,
      "metadata": {
        "id": "O30XvDpTXFxn"
      },
      "outputs": [],
      "source": [
        "import random\n",
        "\n",
        "# random integer from 0 to 6\n",
        "num1 = random.randint(1, 6)\n",
        "print(num1)"
      ]
    },
    {
      "cell_type": "code",
      "source": [
        "import numpy as np"
      ],
      "metadata": {
        "id": "6CwHNtzrY-lf"
      },
      "execution_count": null,
      "outputs": []
    },
    {
      "cell_type": "code",
      "source": [
        "numbers = np.array([10,100,1000,10000,100000,1000000])\n",
        "prob=[]\n",
        "s=0\n",
        "k=0\n",
        "for i in range(len(numbers)):\n",
        "    N=numbers[i]\n",
        "    s=0\n",
        "    for i in range(N):\n",
        "        num = random.randint(1, 6)\n",
        "        if num == 1:\n",
        "           s=s+1\n",
        "    prob += [s/N]\n",
        "\n",
        "import matplotlib.pyplot as plt\n",
        "plt.plot(numbers, prob)\n",
        "plt.ylabel('probabilty of dice')\n",
        "plt.xlabel('number of tosses')\n",
        "\n",
        "plt.show()"
      ],
      "metadata": {
        "id": "C6J2juCMXQsr"
      },
      "execution_count": null,
      "outputs": []
    }
  ]
}