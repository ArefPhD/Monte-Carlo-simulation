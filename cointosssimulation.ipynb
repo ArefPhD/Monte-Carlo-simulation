{
  "nbformat": 4,
  "nbformat_minor": 0,
  "metadata": {
    "colab": {
      "name": "Untitled125.ipynb",
      "private_outputs": true,
      "provenance": []
    },
    "kernelspec": {
      "name": "python3",
      "display_name": "Python 3"
    },
    "language_info": {
      "name": "python"
    }
  },
  "cells": [
    {
      "cell_type": "code",
      "source": [
        "# Import the random module\n",
        "import random"
      ],
      "metadata": {
        "id": "JlzIp0gpWle5"
      },
      "execution_count": null,
      "outputs": []
    },
    {
      "cell_type": "code",
      "source": [
        "a = random.uniform(0, 1)\n",
        " \n",
        "if a>0.5:\n",
        "    print(\"Head\")\n",
        "else:\n",
        "    print(\"Tail\")"
      ],
      "metadata": {
        "id": "-lrXkx-YWiMy"
      },
      "execution_count": null,
      "outputs": []
    },
    {
      "cell_type": "code",
      "source": [
        "def unbiased_coin_toss():\n",
        "    # Generate a random number from 0 to 1\n",
        "    x = random.uniform(0, 1)\n",
        "    # Probability that the number falls between 0 and 0.5 is 1/2\n",
        "     \n",
        "    if x > 0.5:\n",
        "        # Heads for True\n",
        "        return True\n",
        "    else:\n",
        "        # Tails for False\n",
        "        return False"
      ],
      "metadata": {
        "id": "3vQBDo6GWd_5"
      },
      "execution_count": null,
      "outputs": []
    },
    {
      "cell_type": "code",
      "execution_count": null,
      "metadata": {
        "id": "d-GLyk67WXnI"
      },
      "outputs": [],
      "source": [
        "prob = []\n",
        " \n",
        "# Make 1000 experiments\n",
        "for i in range(1000):\n",
        "     \n",
        "    # Each experiment have 10 coin tosses\n",
        "    N = 10\n",
        "    results = []\n",
        " \n",
        "    # Toss the coin 10 times and store that in a list\n",
        "    for i in range(N):\n",
        "        result = unbiased_coin_toss()\n",
        "        results.append(result)\n",
        " \n",
        "    n_heads = sum(results)\n",
        "    p_heads = n_heads/N\n",
        "    prob.append(p_heads)\n",
        " \n",
        "# average the probability of heads over 1000 experiments\n",
        "p_heads_MC = sum(prob)/1000\n",
        " \n",
        "print(\"Probability is {:.3f}\".format(p_heads_MC))"
      ]
    }
  ]
}